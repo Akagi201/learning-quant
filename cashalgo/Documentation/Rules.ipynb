{
 "cells": [
  {
   "cell_type": "markdown",
   "metadata": {},
   "source": [
    "# Order matching\n",
    "\n",
    "Orders should be at Market price and with a time in force of \"Immediate or Cancel\". The exchange simulator will match with orders of the opposite side and fill as much as possible.\n",
    "\n",
    "For example: If the bid/ask is 99\\$/101\\$, a buy order will be execute at 101\\$ and a sell order will be executed at 99\\$."
   ]
  },
  {
   "cell_type": "markdown",
   "metadata": {},
   "source": [
    "# Commission\n",
    "\n",
    "HSI Futures & Options : HK$ 15.00 per contract per side\n",
    "\n",
    "HHI Futures & Options : HK$ 8.00 per contract per side\n",
    "\n",
    "MHI Futures : HK$ 5.00 per contract per side\n",
    "\n",
    "MHI Option : HK$ 3.00 per contract per side\n",
    "\n",
    "MCH Futures : HK$ 3.00 per contract per side\n"
   ]
  },
  {
   "cell_type": "markdown",
   "metadata": {},
   "source": [
    "The commission is paid on purchases and sales. Therefore commission is paid when a position is opened and also when it is closed."
   ]
  },
  {
   "cell_type": "markdown",
   "metadata": {},
   "source": [
    "# Capital\n",
    "\n",
    "The sample portfolio in the tutorial starts with a capital of 1 000 000\\$. At the end of each day, the system calculates the realized Profit/Loss (see section on P&L) and adjusts the capital accordingly. For instance, if your strategy earns 10 000\\$ on the first day it will start the second day with 1 010 000\\$ in capital.\n",
    "\n",
    "The requirement on the initial capital is flexible. Participating teams can set their own initial capital in the backtesting background setting. In the final round, each team needs to suggest a minimum initial capital for their own strategy. The backtesting performed by CASH Algo will take the value suggested to be the initial capital.\n",
    "\n",
    "It is assumed the profit and loss is linearly proportional to the capital. For example, if the amount of initial capital is doubled, the absolute profit or absolute loss will also be doubled, leaving the rate of return unchanged. Essentially, we assume that there is no market impact for simplicity in this competition."
   ]
  },
  {
   "cell_type": "markdown",
   "metadata": {},
   "source": [
    "# Margin Requirement\n",
    "\n",
    "A “Client Margining Methodology” called SPAN will be adopted. SPAN is a risk-based, portfolio approach for calculating the daily margin requirement which has been developed by the Chicago Mercantile Exchange (CME). It finds the overall risk of a complete portfolio containing futures and options positions. The margin requirement is computed to cover that risk.\n",
    "\n",
    "For more details, please visit the following website:\n",
    "\n",
    "https://www.hkex.com.hk/eng/market/rm/rm_dcrm/rm_dcrm_clearing/futrsksys2.htm\n",
    "\n",
    "Participants should be aware of the overall position they have taken. If it is found that the margin cannot be maintained during the backtesting, the team may be disqualified. As a result, the initial capital should be carefully set so that the margin can be maintained throughout the backtesting while the rate of return will not be too small."
   ]
  },
  {
   "cell_type": "markdown",
   "metadata": {},
   "source": [
    "Note that the position value takes the price multiplier into consideration. HSI futures have a multiplier of 50: for every change of 1 in the price, the P&L moves by 50."
   ]
  },
  {
   "cell_type": "markdown",
   "metadata": {},
   "source": [
    "# P&L\n",
    "\n",
    "We calculate P&L by matching purchases and sales in the order they were issued. For example, let's say you bought 1 contract at 19998, 2 contracts at 20001 then sold 2 contracts at 20010.\n",
    "\n",
    "The first 2 trades open a position of 3 contracts that you partially close by selling 2 contracts. You have an outstanding position of 1 contract at the end.\n",
    "\n",
    "To calculate the profit/loss, purchases and sales are paired together. We match them using their average price.\n",
    "\n",
    "First 3 contracts have an average price of (19998+2*20001)/3 = 20000\n",
    "\n",
    "- Pair A: Buy at 20000, Sell at 20010 = +10\n",
    "- Pair B: Buy at 20000, Sell at 20010 = +10\n",
    "\n",
    "Your gross P/L is (taking the price multiplier into consideration but not the commissions) \n"
   ]
  },
  {
   "cell_type": "code",
   "execution_count": 2,
   "metadata": {
    "collapsed": false
   },
   "outputs": [
    {
     "data": {
      "text/plain": [
       "1000"
      ]
     },
     "execution_count": 2,
     "metadata": {},
     "output_type": "execute_result"
    }
   ],
   "source": [
    "(10+10)*50"
   ]
  },
  {
   "cell_type": "markdown",
   "metadata": {},
   "source": [
    "The P/L that corresponds to a close position is called 'realized' and will be added to your capital. Your open position has a P/L calculated by evaluating its value at current market prices. In our example, we have one contract purchased at 20005. If the market price is 20015, the 'unrealized' P/L is "
   ]
  },
  {
   "cell_type": "code",
   "execution_count": 3,
   "metadata": {
    "collapsed": false
   },
   "outputs": [
    {
     "data": {
      "text/plain": [
       "750"
      ]
     },
     "execution_count": 3,
     "metadata": {},
     "output_type": "execute_result"
    }
   ],
   "source": [
    "(20015-20000)*50"
   ]
  },
  {
   "cell_type": "markdown",
   "metadata": {},
   "source": [
    "Realized and unrealized P/L are added together to form the portfolio P/L but only the realized P/L counts towards the capital.\n",
    "\n",
    "This accounting method is called 'average price'. There are other possible ways to pair purchases and sales and they lead to differences in realized / unrealized P/L. However once the position is closed, every method will have the same cumulative realized P/L."
   ]
  },
  {
   "cell_type": "markdown",
   "metadata": {},
   "source": [
    "# End of the Simulation\n",
    "\n",
    "At the end of the evaluation period, your position should be empty. If not, we will automatically close it."
   ]
  }
 ],
 "metadata": {
  "anaconda-cloud": {},
  "kernelspec": {
   "display_name": "Python [Root]",
   "language": "python",
   "name": "Python [Root]"
  },
  "language_info": {
   "codemirror_mode": {
    "name": "ipython",
    "version": 3.0
   },
   "file_extension": ".py",
   "mimetype": "text/x-python",
   "name": "python",
   "nbconvert_exporter": "python",
   "pygments_lexer": "ipython3",
   "version": "3.5.2"
  }
 },
 "nbformat": 4,
 "nbformat_minor": 0
}