{
 "cells": [
  {
   "cell_type": "markdown",
   "metadata": {},
   "source": [
    "# Dos and donts: Various tips\n",
    "\n",
    "## Dos\n",
    "\n",
    "- Use the python notebook interactivity to your advantage. You don't have to save, compile and run your program as a whole. Instead, you should work on a small function, test it and then move on. As you try out trading ideas, many of them won't work out - so there is no point in spending time on writing complex code when it often ends up being thrown away.\n",
    "- Refactor your code when it can be reused. A class encapsulates its logic and state. Once you have a group of functions and variables that work together to provide a complete object, rewrite as a class and put it safely in a module. Make sure that it's well tested and you can forget about the implementation.\n",
    "- Work as a team. You can share the same account by logging in from different locations under the same user but be sure to avoid editting the same file! In case of doubt, it helps creating sub folders.\n",
    "- Break down your trading strategies into functional parts. Like shown in the tutorial, trading strategies usually have orthogonal concepts. For instance, you want to have a stop loss rule that doesn't depend on the trading signal.\n",
    "- Build your toolkit of signals. Your strategy is based on a momentum and you want to use cross-over? Make the signal function take the two curves and then it can be used with moving averages or other indicators. Speaking of moving averages, why not use an exponential average instead of a simple mean? Remember that you can pass functions to functions.\n",
    "- Test your code. As a rule of thumb, at least half of your time should be allocated to testing. Write tests that don't rely on other tests. This is greatly helped by having functions that behave like mathematical functions. Their output only depends on their inputs and they don't have any effect on any other part. For example: `f(x) = x+1` is a pure function, but `f(x): print(x)` is not. A program cannot be entirely pure functions but for a trading algo, several parts can be.\n",
    "- Use a logger. Writing data to the notebook [Out] cell is more resource intensive than writing to a file. The [Out] cell has to be sent from the server to your browser and it has to store everything in the page. Python has several loggers in the logging module. You can open another browser tab to display the content of your log file and reload.\n",
    "- Use modules. It's ok to work principally with a notebook but for a complex strategy, or as you have designed your own sub-components, you can organize your code into your own Python modules. There are \"magic functions\" that helps loading/saving cells to files. http://ipython.org/ipython-doc/dev/interactive/tutorial.html#magic-functions\n",
    "- Bring your own data if you want. You can upload and download data from your account through the tree view. *Please be considerate and refrain from uploading too much data*\n",
    "- Leverage third party libraries. We have installed many scientific packages. There is no need to code another linear algebra package. If you don't find something you'd like, ask us.\n",
    "- Backup your work often. Your data is on the Cloud but ultimately you are responsible for it. If you erase a critical file, we can't rollback - sorry.\n",
    "- Show line numbers and clear all outputs are valuable menu items. If you run into an infinite loop or if your browser becomes too sluggish, try to interrupt the kernel. If that doesn't work, try restart it. If your browser is completely frozen and you can't wait, kill it. Your document is automatically saved up every 2 minutes. You can manually save too.\n",
    "- Use source control. We require a Github account for registration. Why not use for source control too?\n",
    "\n",
    "## Donts\n",
    "- Don't run your strategy on the entire dataset everytime. There are billion of events in the database and though you certainly can use them all, it is time consuming. If your algo must analyze a lot of data, run it on a few days at a time.\n",
    "- Don't feel obligated to code in Object Oriented Programming style. Python is a dynamic language that supports several paradigms. Use the one that you feel most comfortable with.\n",
    "- Don't jump back and forth too much when you evaluate your cells. Though it is tempting during development, do it a lot and you may lose track of the \"right\" evaluation order. At the end, you must submit a notebook that evaluates sequentially.\n"
   ]
  },
  {
   "cell_type": "code",
   "execution_count": null,
   "metadata": {
    "collapsed": true
   },
   "outputs": [],
   "source": [
    ""
   ]
  }
 ],
 "metadata": {
  "kernelspec": {
   "display_name": "Python [Root]",
   "language": "python",
   "name": "Python [Root]"
  },
  "language_info": {
   "codemirror_mode": {
    "name": "ipython",
    "version": 3.0
   },
   "file_extension": ".py",
   "mimetype": "text/x-python",
   "name": "python",
   "nbconvert_exporter": "python",
   "pygments_lexer": "ipython3",
   "version": "3.5.2"
  }
 },
 "nbformat": 4,
 "nbformat_minor": 0
}